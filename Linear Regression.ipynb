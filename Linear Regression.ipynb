{
 "cells": [
  {
   "cell_type": "code",
   "execution_count": 12,
   "id": "d2fcfb25",
   "metadata": {},
   "outputs": [
    {
     "data": {
      "text/html": [
       "<div>\n",
       "<style scoped>\n",
       "    .dataframe tbody tr th:only-of-type {\n",
       "        vertical-align: middle;\n",
       "    }\n",
       "\n",
       "    .dataframe tbody tr th {\n",
       "        vertical-align: top;\n",
       "    }\n",
       "\n",
       "    .dataframe thead th {\n",
       "        text-align: right;\n",
       "    }\n",
       "</style>\n",
       "<table border=\"1\" class=\"dataframe\">\n",
       "  <thead>\n",
       "    <tr style=\"text-align: right;\">\n",
       "      <th></th>\n",
       "      <th>REPORTDATE</th>\n",
       "      <th>VALUE</th>\n",
       "    </tr>\n",
       "  </thead>\n",
       "  <tbody>\n",
       "    <tr>\n",
       "      <th>0</th>\n",
       "      <td>30.12.2013</td>\n",
       "      <td>3457625638</td>\n",
       "    </tr>\n",
       "    <tr>\n",
       "      <th>1</th>\n",
       "      <td>31.12.2013</td>\n",
       "      <td>3417092149</td>\n",
       "    </tr>\n",
       "    <tr>\n",
       "      <th>2</th>\n",
       "      <td>01.01.2014</td>\n",
       "      <td>3417092149</td>\n",
       "    </tr>\n",
       "    <tr>\n",
       "      <th>3</th>\n",
       "      <td>02.01.2014</td>\n",
       "      <td>3417092149</td>\n",
       "    </tr>\n",
       "    <tr>\n",
       "      <th>4</th>\n",
       "      <td>03.01.2014</td>\n",
       "      <td>3417092149</td>\n",
       "    </tr>\n",
       "  </tbody>\n",
       "</table>\n",
       "</div>"
      ],
      "text/plain": [
       "   REPORTDATE       VALUE\n",
       "0  30.12.2013  3457625638\n",
       "1  31.12.2013  3417092149\n",
       "2  01.01.2014  3417092149\n",
       "3  02.01.2014  3417092149\n",
       "4  03.01.2014  3417092149"
      ]
     },
     "execution_count": 12,
     "metadata": {},
     "output_type": "execute_result"
    }
   ],
   "source": [
    "import pandas as pd\n",
    "\n",
    "df = pd.read_csv(r'C:\\Users\\Volot\\Desktop\\Стажировка сбер\\ВС DS Сбер data.csv', sep=\";\")\n",
    "\n",
    "df.head()"
   ]
  },
  {
   "cell_type": "code",
   "execution_count": 11,
   "id": "1aff0631",
   "metadata": {},
   "outputs": [
    {
     "name": "stdout",
     "output_type": "stream",
     "text": [
      "<class 'pandas.core.frame.DataFrame'>\n",
      "RangeIndex: 2111 entries, 0 to 2110\n",
      "Data columns (total 2 columns):\n",
      " #   Column      Non-Null Count  Dtype \n",
      "---  ------      --------------  ----- \n",
      " 0   REPORTDATE  2111 non-null   object\n",
      " 1   VALUE       2111 non-null   int64 \n",
      "dtypes: int64(1), object(1)\n",
      "memory usage: 33.1+ KB\n"
     ]
    }
   ],
   "source": [
    "import pandas as pd\n",
    "import numpy as np\n",
    "import statsmodels.formula.api as smf\n",
    "\n",
    "df = pd.read_csv(r'C:\\Users\\Volot\\Desktop\\Стажировка сбер\\ВС DS Сбер data.csv', sep=\";\")\n",
    "\n",
    "df.info()"
   ]
  },
  {
   "cell_type": "code",
   "execution_count": 9,
   "id": "f1c41856",
   "metadata": {},
   "outputs": [
    {
     "name": "stdout",
     "output_type": "stream",
     "text": [
      "<class 'pandas.core.frame.DataFrame'>\n",
      "RangeIndex: 2111 entries, 0 to 2110\n",
      "Data columns (total 2 columns):\n",
      " #   Column      Non-Null Count  Dtype         \n",
      "---  ------      --------------  -----         \n",
      " 0   REPORTDATE  2111 non-null   datetime64[ns]\n",
      " 1   VALUE       2111 non-null   int64         \n",
      "dtypes: datetime64[ns](1), int64(1)\n",
      "memory usage: 33.1 KB\n"
     ]
    }
   ],
   "source": [
    "import pandas as pd\n",
    "import numpy as np\n",
    "import statsmodels.formula.api as smf\n",
    "\n",
    "df = pd.read_csv(r'C:\\Users\\Volot\\Desktop\\Стажировка сбер\\ВС DS Сбер data.csv', sep=\";\", parse_dates=['REPORTDATE'], dayfirst=True)\n",
    "\n",
    "df.info()"
   ]
  },
  {
   "cell_type": "code",
   "execution_count": 15,
   "id": "7076a796",
   "metadata": {},
   "outputs": [
    {
     "data": {
      "text/html": [
       "<div>\n",
       "<style scoped>\n",
       "    .dataframe tbody tr th:only-of-type {\n",
       "        vertical-align: middle;\n",
       "    }\n",
       "\n",
       "    .dataframe tbody tr th {\n",
       "        vertical-align: top;\n",
       "    }\n",
       "\n",
       "    .dataframe thead th {\n",
       "        text-align: right;\n",
       "    }\n",
       "</style>\n",
       "<table border=\"1\" class=\"dataframe\">\n",
       "  <thead>\n",
       "    <tr style=\"text-align: right;\">\n",
       "      <th></th>\n",
       "      <th>REPORTDATE</th>\n",
       "      <th>VALUE</th>\n",
       "    </tr>\n",
       "  </thead>\n",
       "  <tbody>\n",
       "    <tr>\n",
       "      <th>0</th>\n",
       "      <td>2013-12-30</td>\n",
       "      <td>3457625638</td>\n",
       "    </tr>\n",
       "    <tr>\n",
       "      <th>1</th>\n",
       "      <td>2013-12-31</td>\n",
       "      <td>3417092149</td>\n",
       "    </tr>\n",
       "    <tr>\n",
       "      <th>2</th>\n",
       "      <td>2014-01-01</td>\n",
       "      <td>3417092149</td>\n",
       "    </tr>\n",
       "    <tr>\n",
       "      <th>3</th>\n",
       "      <td>2014-01-02</td>\n",
       "      <td>3417092149</td>\n",
       "    </tr>\n",
       "    <tr>\n",
       "      <th>4</th>\n",
       "      <td>2014-01-03</td>\n",
       "      <td>3417092149</td>\n",
       "    </tr>\n",
       "  </tbody>\n",
       "</table>\n",
       "</div>"
      ],
      "text/plain": [
       "  REPORTDATE       VALUE\n",
       "0 2013-12-30  3457625638\n",
       "1 2013-12-31  3417092149\n",
       "2 2014-01-01  3417092149\n",
       "3 2014-01-02  3417092149\n",
       "4 2014-01-03  3417092149"
      ]
     },
     "execution_count": 15,
     "metadata": {},
     "output_type": "execute_result"
    }
   ],
   "source": [
    "import pandas as pd\n",
    "import numpy as np\n",
    "import statsmodels.api as sm\n",
    "import statsmodels.formula.api as smf\n",
    "\n",
    "df = pd.read_csv(r'C:\\Users\\Volot\\Desktop\\Стажировка сбер\\ВС DS Сбер data.csv', sep=\";\", parse_dates=['REPORTDATE'], dayfirst=True)\n",
    "\n",
    "df = df.sort_values('REPORTDATE', ascending=True)\n",
    "df.head()"
   ]
  },
  {
   "cell_type": "code",
   "execution_count": 14,
   "id": "20951a8e",
   "metadata": {},
   "outputs": [
    {
     "data": {
      "text/plain": [
       "<Axes: xlabel='REPORTDATE', ylabel='VALUE'>"
      ]
     },
     "execution_count": 14,
     "metadata": {},
     "output_type": "execute_result"
    },
    {
     "data": {
      "image/png": "[encoded data removed]",
      "text/plain": [
       "<Figure size 640x480 with 1 Axes>"
      ]
     },
     "metadata": {},
     "output_type": "display_data"
    }
   ],
   "source": [
    "#Визуализируем наши данные.\n",
    "\n",
    "import pandas as pd\n",
    "import numpy as np\n",
    "import seaborn as sns\n",
    "\n",
    "df = pd.read_csv(r'C:\\Users\\Volot\\Desktop\\Стажировка сбер\\ВС DS Сбер data.csv', sep=\";\", parse_dates=['REPORTDATE'], dayfirst=True)\n",
    "\n",
    "df = df.sort_values('REPORTDATE', ascending=True)\n",
    "\n",
    "sns.lineplot(data=df, x=\"REPORTDATE\", y=\"VALUE\", color='green')"
   ]
  },
  {
   "cell_type": "code",
   "execution_count": 3,
   "id": "2213ecef",
   "metadata": {},
   "outputs": [
    {
     "data": {
      "image/png": "[encoded data removed]",
      "text/plain": [
       "<Figure size 600x400 with 2 Axes>"
      ]
     },
     "metadata": {},
     "output_type": "display_data"
    }
   ],
   "source": [
    "import pandas as pd\n",
    "\n",
    "import matplotlib.pyplot as plt\n",
    "import seaborn as sns\n",
    "df = pd.read_csv(r'C:\\Users\\Volot\\Desktop\\Стажировка сбер\\ВС DS Сбер data.csv', sep=\";\", parse_dates=['REPORTDATE'], dayfirst=True)\n",
    "df = df.sort_values('REPORTDATE', ascending=True)\n",
    "\n",
    "correlation_map = df.corr()\n",
    "plt.figure(figsize=(6,4))\n",
    "sns.heatmap(correlation_map, annot=True, cmap='Oranges', fmt='.2f', linewidths=0.5)\n",
    "plt.title('Correlation')\n",
    "plt.show()"
   ]
  },
  {
   "cell_type": "code",
   "execution_count": 26,
   "id": "af0114ed",
   "metadata": {},
   "outputs": [
    {
     "data": {
      "text/html": [
       "<div>\n",
       "<style scoped>\n",
       "    .dataframe tbody tr th:only-of-type {\n",
       "        vertical-align: middle;\n",
       "    }\n",
       "\n",
       "    .dataframe tbody tr th {\n",
       "        vertical-align: top;\n",
       "    }\n",
       "\n",
       "    .dataframe thead th {\n",
       "        text-align: right;\n",
       "    }\n",
       "</style>\n",
       "<table border=\"1\" class=\"dataframe\">\n",
       "  <thead>\n",
       "    <tr style=\"text-align: right;\">\n",
       "      <th></th>\n",
       "      <th>VALUE</th>\n",
       "    </tr>\n",
       "    <tr>\n",
       "      <th>REPORTDATE</th>\n",
       "      <th></th>\n",
       "    </tr>\n",
       "  </thead>\n",
       "  <tbody>\n",
       "    <tr>\n",
       "      <th>2013-12-31</th>\n",
       "      <td>3.437359e+09</td>\n",
       "    </tr>\n",
       "    <tr>\n",
       "      <th>2014-01-31</th>\n",
       "      <td>3.483258e+09</td>\n",
       "    </tr>\n",
       "    <tr>\n",
       "      <th>2014-02-28</th>\n",
       "      <td>4.370265e+09</td>\n",
       "    </tr>\n",
       "    <tr>\n",
       "      <th>2014-03-31</th>\n",
       "      <td>5.147793e+09</td>\n",
       "    </tr>\n",
       "    <tr>\n",
       "      <th>2014-04-30</th>\n",
       "      <td>5.049504e+09</td>\n",
       "    </tr>\n",
       "  </tbody>\n",
       "</table>\n",
       "</div>"
      ],
      "text/plain": [
       "                   VALUE\n",
       "REPORTDATE              \n",
       "2013-12-31  3.437359e+09\n",
       "2014-01-31  3.483258e+09\n",
       "2014-02-28  4.370265e+09\n",
       "2014-03-31  5.147793e+09\n",
       "2014-04-30  5.049504e+09"
      ]
     },
     "execution_count": 26,
     "metadata": {},
     "output_type": "execute_result"
    }
   ],
   "source": [
    "#Данные выглядят рвано. Наша модель рискует переобучиться. Попробуем отобразить статистику по месяцам.\n",
    "\n",
    "import pandas as pd\n",
    "import numpy as np\n",
    "import statsmodels.api as sm\n",
    "import statsmodels.formula.api as smf\n",
    "\n",
    "df = pd.read_csv(r'C:\\Users\\Volot\\Desktop\\Стажировка сбер\\ВС DS Сбер data.csv', sep=\";\", parse_dates=['REPORTDATE'], dayfirst=True)\n",
    "\n",
    "df = df.sort_values('REPORTDATE', ascending=True)\n",
    "dg = df.groupby(pd.Grouper(key='REPORTDATE', freq='1M')).mean()\n",
    "dg.head()"
   ]
  },
  {
   "cell_type": "code",
   "execution_count": 25,
   "id": "21c83511",
   "metadata": {},
   "outputs": [
    {
     "data": {
      "text/html": [
       "<div>\n",
       "<style scoped>\n",
       "    .dataframe tbody tr th:only-of-type {\n",
       "        vertical-align: middle;\n",
       "    }\n",
       "\n",
       "    .dataframe tbody tr th {\n",
       "        vertical-align: top;\n",
       "    }\n",
       "\n",
       "    .dataframe thead th {\n",
       "        text-align: right;\n",
       "    }\n",
       "</style>\n",
       "<table border=\"1\" class=\"dataframe\">\n",
       "  <thead>\n",
       "    <tr style=\"text-align: right;\">\n",
       "      <th></th>\n",
       "      <th>VALUE</th>\n",
       "    </tr>\n",
       "    <tr>\n",
       "      <th>REPORTDATE</th>\n",
       "      <th></th>\n",
       "    </tr>\n",
       "  </thead>\n",
       "  <tbody>\n",
       "    <tr>\n",
       "      <th>2019-06-30</th>\n",
       "      <td>6.743381e+10</td>\n",
       "    </tr>\n",
       "    <tr>\n",
       "      <th>2019-07-31</th>\n",
       "      <td>6.846319e+10</td>\n",
       "    </tr>\n",
       "    <tr>\n",
       "      <th>2019-08-31</th>\n",
       "      <td>6.729228e+10</td>\n",
       "    </tr>\n",
       "    <tr>\n",
       "      <th>2019-09-30</th>\n",
       "      <td>6.521837e+10</td>\n",
       "    </tr>\n",
       "    <tr>\n",
       "      <th>2019-10-31</th>\n",
       "      <td>6.616570e+10</td>\n",
       "    </tr>\n",
       "  </tbody>\n",
       "</table>\n",
       "</div>"
      ],
      "text/plain": [
       "                   VALUE\n",
       "REPORTDATE              \n",
       "2019-06-30  6.743381e+10\n",
       "2019-07-31  6.846319e+10\n",
       "2019-08-31  6.729228e+10\n",
       "2019-09-30  6.521837e+10\n",
       "2019-10-31  6.616570e+10"
      ]
     },
     "execution_count": 25,
     "metadata": {},
     "output_type": "execute_result"
    }
   ],
   "source": [
    "import pandas as pd\n",
    "import numpy as np\n",
    "import statsmodels.api as sm\n",
    "import statsmodels.formula.api as smf\n",
    "\n",
    "df = pd.read_csv(r'C:\\Users\\Volot\\Desktop\\Стажировка сбер\\ВС DS Сбер data.csv', sep=\";\", parse_dates=['REPORTDATE'], dayfirst=True)\n",
    "\n",
    "df = df.sort_values('REPORTDATE', ascending=True)\n",
    "dg = df.groupby(pd.Grouper(key='REPORTDATE', freq='1M')).mean()\n",
    "dg.tail()"
   ]
  },
  {
   "cell_type": "code",
   "execution_count": 24,
   "id": "78d467d4",
   "metadata": {},
   "outputs": [
    {
     "data": {
      "text/plain": [
       "<Axes: xlabel='REPORTDATE', ylabel='VALUE'>"
      ]
     },
     "execution_count": 24,
     "metadata": {},
     "output_type": "execute_result"
    },
    {
     "data": {
      "image/png": "[encoded data removed]",
      "text/plain": [
       "<Figure size 640x480 with 1 Axes>"
      ]
     },
     "metadata": {},
     "output_type": "display_data"
    }
   ],
   "source": [
    "import pandas as pd\n",
    "import numpy as np\n",
    "import statsmodels.api as sm\n",
    "import statsmodels.formula.api as smf\n",
    "\n",
    "df = pd.read_csv(r'C:\\Users\\Volot\\Desktop\\Стажировка сбер\\ВС DS Сбер data.csv', sep=\";\", parse_dates=['REPORTDATE'], dayfirst=True)\n",
    "\n",
    "df = df.sort_values('REPORTDATE', ascending=True)\n",
    "dg = df.groupby(pd.Grouper(key='REPORTDATE', freq='1M')).mean()\n",
    "sns.lineplot(data=dg, x=\"REPORTDATE\", y=\"VALUE\", color='green')"
   ]
  },
  {
   "cell_type": "code",
   "execution_count": 32,
   "id": "1a75823f",
   "metadata": {},
   "outputs": [
    {
     "name": "stdout",
     "output_type": "stream",
     "text": [
      "[2.93748108e+10 5.14779315e+09 1.83427702e+10 3.22020304e+10\n",
      " 4.37026550e+09 1.77971092e+10 2.71122096e+10 3.29170657e+10\n",
      " 3.84214751e+10 4.43922729e+10 6.72922771e+10 1.93436761e+10\n",
      " 5.04950386e+09 4.56070533e+10 3.34004648e+10]\n",
      "R2 = 1.0\n",
      "mse = 7.251704422136148e-11\n"
     ]
    }
   ],
   "source": [
    "#Теперь обучим модель.\n",
    "\n",
    "import numpy as np\n",
    "from sklearn.preprocessing import StandardScaler\n",
    "from sklearn.model_selection import train_test_split\n",
    "from sklearn.metrics import mean_squared_error, r2_score\n",
    "from sklearn.linear_model import LinearRegression\n",
    "from sklearn import metrics\n",
    "from sklearn.tree import DecisionTreeRegressor\n",
    "import pickle\n",
    "\n",
    "import warnings\n",
    "warnings.filterwarnings(\"ignore\")\n",
    "\n",
    "df = pd.read_csv(r'C:\\Users\\Volot\\Desktop\\Стажировка сбер\\ВС DS Сбер data.csv', sep=\";\", parse_dates=['REPORTDATE'], dayfirst=True)\n",
    "\n",
    "df = df.sort_values('REPORTDATE', ascending=True)\n",
    "dg = df.groupby(pd.Grouper(key='REPORTDATE', freq='1M')).mean()\n",
    "\n",
    "X = dg\n",
    "y = dg['VALUE'].values.reshape(-1,1)\n",
    "\n",
    "X_train , X_test , y_train , y_test = train_test_split(X,y,test_size=0.2,random_state=10)\n",
    "\n",
    "y_train = y_train.ravel()\n",
    "y_test = y_test.ravel()\n",
    "\n",
    "linear_regr = LinearRegression()\n",
    "linear_regr.fit(X_train, y_train)\n",
    "y_pred = linear_regr.predict(X_test)\n",
    "mse = mean_squared_error(y_test, y_pred)\n",
    "\n",
    "print(y_pred)\n",
    "print('R2 =', r2_score(y_test, y_pred))\n",
    "print('mse =', mse)"
   ]
  },
  {
   "cell_type": "code",
   "execution_count": null,
   "id": "f80f5c61",
   "metadata": {},
   "outputs": [],
   "source": [
    "# Модель отлично работает на тестовой группе данных. Что и требовалось получить."
   ]
  }
 ],
 "metadata": {
  "kernelspec": {
   "display_name": "Python 3 (ipykernel)",
   "language": "python",
   "name": "python3"
  },
  "language_info": {
   "codemirror_mode": {
    "name": "ipython",
    "version": 3
   },
   "file_extension": ".py",
   "mimetype": "text/x-python",
   "name": "python",
   "nbconvert_exporter": "python",
   "pygments_lexer": "ipython3",
   "version": "3.11.5"
  }
 },
 "nbformat": 4,
 "nbformat_minor": 5
}
